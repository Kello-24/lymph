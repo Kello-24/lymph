{
 "cells": [
  {
   "cell_type": "code",
   "execution_count": 2,
   "id": "bc3f303c",
   "metadata": {},
   "outputs": [],
   "source": [
    "import lymph\n",
    "import pandas as pd\n",
    "import scipy as sp\n",
    "import numpy as np\n",
    "import numpy as np\n",
    "from scipy.optimize import minimize\n",
    "import pprint"
   ]
  },
  {
   "cell_type": "code",
   "execution_count": 3,
   "id": "ca1a87ff",
   "metadata": {},
   "outputs": [],
   "source": [
    "graph_dict_II_III = {\n",
    "    ('tumor', 'T')  : ['II', 'III'], \n",
    "    ('lnl'  , 'II') : ['III'], \n",
    "    ('lnl'  , 'III'): []\n",
    "}\n",
    "\n",
    "graph_dict_II_III_IV = {\n",
    "    ('tumor', 'T')  : ['II', 'III', 'IV'], \n",
    "    ('lnl'  , 'II') : ['III'], \n",
    "    ('lnl'  , 'III'): ['IV'], \n",
    "    ('lnl'  , 'IV') : []\n",
    "}\n",
    "# named_params = ['ipsi_TtoII_spread_ext1', \n",
    "#                 'ipsi_TtoIII_spread_ext1',\n",
    "#                 'contra_TtoII_spread_ext1',\n",
    "#                 'contra_TtoII_spread_ext2',\n",
    "#                 'contra_TtoII_spread_ext3',\n",
    "#                 'contra_TtoIII_spread_ext1',\n",
    "#                 'contra_TtoIII_spread_ext2',\n",
    "#                 'contra_TtoIII_spread_ext3',\n",
    "#                 'IItoIII_spread',\n",
    "#                 'mixing1',\n",
    "#                 'mixing2',\n",
    "#                 'mixing3']\n",
    "\n",
    "\n",
    "csv_file_path = r\"/home/loriskeller/Documents/Master Project/usz_reduced_cohort.csv\"\n",
    "dataset_distance_cohorts_oropharynx = pd.read_csv(csv_file_path, header = [0,1,2])\n",
    "model = lymph.models.Midline(graph_dict = graph_dict_II_III_IV,\n",
    "                             use_mixing = True,\n",
    "                             use_cohorts = True,\n",
    "                             use_midext_evo=False\n",
    "                             )"
   ]
  },
  {
   "cell_type": "code",
   "execution_count": 4,
   "id": "8cee7afd",
   "metadata": {},
   "outputs": [],
   "source": [
    "model.load_patient_data(dataset_distance_cohorts_oropharynx)\n",
    "model.set_modality(\"max_llh\", spec=1, sens=1)\n",
    "\n",
    "example_cols = [(\"tumor\", \"1\", \"t_stage\"),\n",
    "                (\"tumor\", \"1\", \"ext_coh\")]\n",
    "dataset_distance_cohorts_oropharynx[example_cols]   \n",
    "params = {\n",
    "    'ipsi_TtoII_spread': 0.7,\n",
    "    'ipsi_TtoIII_spread': 0.2,\n",
    "    'contra_TtoII_spread': 0.1,\n",
    "    'contra_TtoIII_spread': 0.1,\n",
    "    'mixing1': 0.1,\n",
    "    'mixing2': 0.3,\n",
    "    'mixing3': 0.4,\n",
    "    'IItoIII_spread': 0.3\n",
    "}"
   ]
  },
  {
   "cell_type": "code",
   "execution_count": 5,
   "id": "7f74849b",
   "metadata": {},
   "outputs": [
    {
     "name": "stdout",
     "output_type": "stream",
     "text": [
      "{'contra_TtoII_spread': 0.1, 'contra_TtoIII_spread': 0.1, 'contra_TtoIV_spread': 0.0, 'ipsi_TtoII_spread': 0.7, 'ipsi_TtoIII_spread': 0.2, 'ipsi_TtoIV_spread': 0.0, 'mixing1': 0.1, 'mixing2': 0.3, 'mixing3': 0.4, 'IItoIII_spread': 0.3, 'IIItoIV_spread': 0.0}\n",
      "contra_TtoII_spread_ext1: 0.16\n",
      "contra_TtoII_spread_ext2: 0.27999999999999997\n",
      "contra_TtoII_spread_ext3: 0.33999999999999997\n",
      "contra_TtoIII_spread_ext1: 0.11000000000000001\n",
      "contra_TtoIII_spread_ext2: 0.13\n",
      "contra_TtoIII_spread_ext3: 0.14\n"
     ]
    }
   ],
   "source": [
    "model.set_params(**params)\n",
    "\n",
    "p = model.get_params()  \n",
    "print(p)\n",
    "\n",
    "ipsi_II = p[\"ipsi_TtoII_spread\"]\n",
    "ipsi_III = p[\"ipsi_TtoIII_spread\"]\n",
    "mix1 = p[\"mixing1\"]\n",
    "mix2 = p[\"mixing2\"]\n",
    "mix3 = p[\"mixing3\"]\n",
    "noext_II = p[\"contra_TtoII_spread\"]\n",
    "noext_III = p[\"contra_TtoIII_spread\"]\n",
    "\n",
    "# 3) compute the cohort‐1 contralateral spread\n",
    "contra_TtoII_spread_ext1 = ipsi_II * mix1 + (1 - mix1) * noext_II\n",
    "contra_TtoII_spread_ext2 = ipsi_II * mix2 + (1 - mix2) * noext_II\n",
    "contra_TtoII_spread_ext3 = ipsi_II * mix3 + (1 - mix3) * noext_II\n",
    "\n",
    "contra_TtoIII_spread_ext1 = ipsi_III * mix1 + (1 - mix1) * noext_III\n",
    "contra_TtoIII_spread_ext2 = ipsi_III * mix2 + (1 - mix2) * noext_III\n",
    "contra_TtoIII_spread_ext3 = ipsi_III * mix3 + (1 - mix3) * noext_III\n",
    "\n",
    "print(f\"contra_TtoII_spread_ext1: {contra_TtoII_spread_ext1}\")\n",
    "print(f\"contra_TtoII_spread_ext2: {contra_TtoII_spread_ext2}\")\n",
    "print(f\"contra_TtoII_spread_ext3: {contra_TtoII_spread_ext3}\")\n",
    "print(f\"contra_TtoIII_spread_ext1: {contra_TtoIII_spread_ext1}\")\n",
    "print(f\"contra_TtoIII_spread_ext2: {contra_TtoIII_spread_ext2}\")\n",
    "print(f\"contra_TtoIII_spread_ext3: {contra_TtoIII_spread_ext3}\")"
   ]
  },
  {
   "cell_type": "code",
   "execution_count": 6,
   "id": "02bb8562",
   "metadata": {},
   "outputs": [],
   "source": [
    "rng = np.random.default_rng(42)\n",
    "\n",
    "max_time = model.max_time\n",
    "time_steps = np.arange(max_time+1)\n",
    "p = 0.3\n",
    "\n",
    "early_prior = sp.stats.binom.pmf(time_steps, max_time, p)\n",
    "model.set_distribution(\"early\", early_prior)\n",
    "\n",
    "def late_binomial(support: np.ndarray, p: float = 0.5) -> np.ndarray:\n",
    "    \"\"\"Parametrized binomial distribution.\"\"\"\n",
    "    return sp.stats.binom.pmf(support, n=support[-1], p=p)\n",
    "\n",
    "model.set_distribution(\"late\", late_binomial)"
   ]
  },
  {
   "cell_type": "code",
   "execution_count": 7,
   "id": "96073b01",
   "metadata": {},
   "outputs": [
    {
     "name": "stderr",
     "output_type": "stream",
     "text": [
      "/mnt/data/loriskeller/Documents/Master Project/VS/lymph_stuff/lymph/lymph/utils.py:458: RuntimeWarning: divide by zero encountered in log\n",
      "  return llh + np.sum(np.log(arr))\n"
     ]
    },
    {
     "data": {
      "text/plain": [
       "np.float64(-inf)"
      ]
     },
     "execution_count": 7,
     "metadata": {},
     "output_type": "execute_result"
    }
   ],
   "source": [
    "model.likelihood()"
   ]
  },
  {
   "cell_type": "code",
   "execution_count": 8,
   "id": "4a2c244a",
   "metadata": {},
   "outputs": [],
   "source": [
    "import emcee\n",
    "from lymph.utils import safe_set_params\n",
    "\n",
    "nwalkers, ndim = 100, len(model.get_params())\n",
    "nsteps = 200\n",
    "initial = np.random.uniform(size=(nwalkers, ndim))"
   ]
  },
  {
   "cell_type": "code",
   "execution_count": 9,
   "id": "23ca9792",
   "metadata": {},
   "outputs": [],
   "source": [
    "sampler = emcee.EnsembleSampler(\n",
    "    nwalkers=nwalkers,\n",
    "    ndim=ndim,\n",
    "    log_prob_fn=model.likelihood,\n",
    "    parameter_names=list(model.get_params().keys()),\n",
    ")"
   ]
  },
  {
   "cell_type": "code",
   "execution_count": 10,
   "id": "fdaf3497",
   "metadata": {},
   "outputs": [],
   "source": [
    "# sampler.run_mcmc(initial, nsteps, progress=True)"
   ]
  },
  {
   "cell_type": "code",
   "execution_count": 11,
   "id": "7bfbec4b",
   "metadata": {},
   "outputs": [
    {
     "name": "stdout",
     "output_type": "stream",
     "text": [
      "contra_TtoII_spread = 0.774\n",
      "contra_TtoIII_spread = 0.439\n",
      "contra_TtoIV_spread = 0.859\n",
      "ipsi_TtoII_spread = 0.697\n",
      "ipsi_TtoIII_spread = 0.094\n",
      "ipsi_TtoIV_spread = 0.976\n",
      "mixing1 = 0.761\n",
      "mixing2 = 0.786\n",
      "mixing3 = 0.128\n",
      "IItoIII_spread = 0.450\n",
      "IIItoIV_spread = 0.371\n",
      "late_p = 0.927\n"
     ]
    }
   ],
   "source": [
    "# fix your seed for reproducibility\n",
    "seed = 42\n",
    "rng  = np.random.default_rng(seed)\n",
    "\n",
    "# grab the names & initial *length*\n",
    "init_dict   = model.get_params(as_dict=True)\n",
    "param_names = list(init_dict.keys())\n",
    "ndim        = len(param_names)\n",
    "# draw a random starting point in [0,1]^ndim\n",
    "\n",
    "x0 = rng.random(ndim)\n",
    "\n",
    "for i, name in enumerate(param_names):\n",
    "    print(f\"{name} = {x0[i]:.3f}\")\n",
    "      "
   ]
  },
  {
   "cell_type": "code",
   "execution_count": 12,
   "id": "ee12dcde",
   "metadata": {},
   "outputs": [
    {
     "ename": "TypeError",
     "evalue": "unsupported operand type(s) for *: 'NoneType' and 'float'",
     "output_type": "error",
     "traceback": [
      "\u001b[31m---------------------------------------------------------------------------\u001b[39m",
      "\u001b[31mTypeError\u001b[39m                                 Traceback (most recent call last)",
      "\u001b[36mCell\u001b[39m\u001b[36m \u001b[39m\u001b[32mIn[12]\u001b[39m\u001b[32m, line 21\u001b[39m\n\u001b[32m     19\u001b[39m method = \u001b[33m\"\u001b[39m\u001b[33mPowell\u001b[39m\u001b[33m\"\u001b[39m\n\u001b[32m     20\u001b[39m \u001b[38;5;66;03m#method = \"Nelder-Mead\"  # or \"Powell\", \"L-BFGS-B\", etc.\u001b[39;00m\n\u001b[32m---> \u001b[39m\u001b[32m21\u001b[39m res = \u001b[43mminimize\u001b[49m\u001b[43m(\u001b[49m\n\u001b[32m     22\u001b[39m \u001b[43m    \u001b[49m\u001b[43mfun\u001b[49m\u001b[43m=\u001b[49m\u001b[43mneg_loglik\u001b[49m\u001b[43m,\u001b[49m\n\u001b[32m     23\u001b[39m \u001b[43m    \u001b[49m\u001b[43mx0\u001b[49m\u001b[43m=\u001b[49m\u001b[43mx0\u001b[49m\u001b[43m,\u001b[49m\n\u001b[32m     24\u001b[39m \u001b[43m    \u001b[49m\u001b[43mbounds\u001b[49m\u001b[43m=\u001b[49m\u001b[43mbounds\u001b[49m\u001b[43m,\u001b[49m\n\u001b[32m     25\u001b[39m \u001b[43m    \u001b[49m\u001b[43mmethod\u001b[49m\u001b[43m=\u001b[49m\u001b[43mmethod\u001b[49m\u001b[43m,\u001b[49m\n\u001b[32m     26\u001b[39m \u001b[43m    \u001b[49m\u001b[43moptions\u001b[49m\u001b[43m=\u001b[49m\u001b[43m{\u001b[49m\u001b[33;43m\"\u001b[39;49m\u001b[33;43mmaxiter\u001b[39;49m\u001b[33;43m\"\u001b[39;49m\u001b[43m:\u001b[49m\u001b[43m \u001b[49m\u001b[32;43m1000\u001b[39;49m\u001b[43m,\u001b[49m\u001b[43m \u001b[49m\u001b[33;43m\"\u001b[39;49m\u001b[33;43mdisp\u001b[39;49m\u001b[33;43m\"\u001b[39;49m\u001b[43m:\u001b[49m\u001b[43m \u001b[49m\u001b[38;5;28;43;01mTrue\u001b[39;49;00m\u001b[43m}\u001b[49m\u001b[43m,\u001b[49m\n\u001b[32m     27\u001b[39m \u001b[43m)\u001b[49m\n\u001b[32m     29\u001b[39m \u001b[38;5;66;03m# 4) unpack & load optimized params\u001b[39;00m\n\u001b[32m     30\u001b[39m opt_x = res.x\n",
      "\u001b[36mFile \u001b[39m\u001b[32m~/Documents/Master Project/VS/lymph_stuff/.venv/lib/python3.13/site-packages/scipy/optimize/_minimize.py:729\u001b[39m, in \u001b[36mminimize\u001b[39m\u001b[34m(fun, x0, args, method, jac, hess, hessp, bounds, constraints, tol, callback, options)\u001b[39m\n\u001b[32m    726\u001b[39m     res = _minimize_neldermead(fun, x0, args, callback, bounds=bounds,\n\u001b[32m    727\u001b[39m                                **options)\n\u001b[32m    728\u001b[39m \u001b[38;5;28;01melif\u001b[39;00m meth == \u001b[33m'\u001b[39m\u001b[33mpowell\u001b[39m\u001b[33m'\u001b[39m:\n\u001b[32m--> \u001b[39m\u001b[32m729\u001b[39m     res = \u001b[43m_minimize_powell\u001b[49m\u001b[43m(\u001b[49m\u001b[43mfun\u001b[49m\u001b[43m,\u001b[49m\u001b[43m \u001b[49m\u001b[43mx0\u001b[49m\u001b[43m,\u001b[49m\u001b[43m \u001b[49m\u001b[43margs\u001b[49m\u001b[43m,\u001b[49m\u001b[43m \u001b[49m\u001b[43mcallback\u001b[49m\u001b[43m,\u001b[49m\u001b[43m \u001b[49m\u001b[43mbounds\u001b[49m\u001b[43m,\u001b[49m\u001b[43m \u001b[49m\u001b[43m*\u001b[49m\u001b[43m*\u001b[49m\u001b[43moptions\u001b[49m\u001b[43m)\u001b[49m\n\u001b[32m    730\u001b[39m \u001b[38;5;28;01melif\u001b[39;00m meth == \u001b[33m'\u001b[39m\u001b[33mcg\u001b[39m\u001b[33m'\u001b[39m:\n\u001b[32m    731\u001b[39m     res = _minimize_cg(fun, x0, args, jac, callback, **options)\n",
      "\u001b[36mFile \u001b[39m\u001b[32m~/Documents/Master Project/VS/lymph_stuff/.venv/lib/python3.13/site-packages/scipy/optimize/_optimize.py:3563\u001b[39m, in \u001b[36m_minimize_powell\u001b[39m\u001b[34m(func, x0, args, callback, bounds, xtol, ftol, maxiter, maxfev, disp, direc, return_all, **unknown_options)\u001b[39m\n\u001b[32m   3561\u001b[39m     _, lmax = _line_for_search(x, direc1, lower_bound, upper_bound)\n\u001b[32m   3562\u001b[39m x2 = x + \u001b[38;5;28mmin\u001b[39m(lmax, \u001b[32m1\u001b[39m) * direc1\n\u001b[32m-> \u001b[39m\u001b[32m3563\u001b[39m fx2 = \u001b[43mfunc\u001b[49m\u001b[43m(\u001b[49m\u001b[43mx2\u001b[49m\u001b[43m)\u001b[49m\n\u001b[32m   3565\u001b[39m \u001b[38;5;28;01mif\u001b[39;00m (fx > fx2):\n\u001b[32m   3566\u001b[39m     t = \u001b[32m2.0\u001b[39m*(fx + fx2 - \u001b[32m2.0\u001b[39m*fval)\n",
      "\u001b[36mFile \u001b[39m\u001b[32m~/Documents/Master Project/VS/lymph_stuff/.venv/lib/python3.13/site-packages/scipy/optimize/_optimize.py:542\u001b[39m, in \u001b[36m_wrap_scalar_function_maxfun_validation.<locals>.function_wrapper\u001b[39m\u001b[34m(x, *wrapper_args)\u001b[39m\n\u001b[32m    540\u001b[39m ncalls[\u001b[32m0\u001b[39m] += \u001b[32m1\u001b[39m\n\u001b[32m    541\u001b[39m \u001b[38;5;66;03m# A copy of x is sent to the user function (gh13740)\u001b[39;00m\n\u001b[32m--> \u001b[39m\u001b[32m542\u001b[39m fx = \u001b[43mfunction\u001b[49m\u001b[43m(\u001b[49m\u001b[43mnp\u001b[49m\u001b[43m.\u001b[49m\u001b[43mcopy\u001b[49m\u001b[43m(\u001b[49m\u001b[43mx\u001b[49m\u001b[43m)\u001b[49m\u001b[43m,\u001b[49m\u001b[43m \u001b[49m\u001b[43m*\u001b[49m\u001b[43m(\u001b[49m\u001b[43mwrapper_args\u001b[49m\u001b[43m \u001b[49m\u001b[43m+\u001b[49m\u001b[43m \u001b[49m\u001b[43margs\u001b[49m\u001b[43m)\u001b[49m\u001b[43m)\u001b[49m\n\u001b[32m    543\u001b[39m \u001b[38;5;66;03m# Ideally, we'd like to a have a true scalar returned from f(x). For\u001b[39;00m\n\u001b[32m    544\u001b[39m \u001b[38;5;66;03m# backwards-compatibility, also allow np.array([1.3]),\u001b[39;00m\n\u001b[32m    545\u001b[39m \u001b[38;5;66;03m# np.array([[1.3]]) etc.\u001b[39;00m\n\u001b[32m    546\u001b[39m \u001b[38;5;28;01mif\u001b[39;00m \u001b[38;5;129;01mnot\u001b[39;00m np.isscalar(fx):\n",
      "\u001b[36mCell\u001b[39m\u001b[36m \u001b[39m\u001b[32mIn[12]\u001b[39m\u001b[32m, line 10\u001b[39m, in \u001b[36mneg_loglik\u001b[39m\u001b[34m(x)\u001b[39m\n\u001b[32m      7\u001b[39m \u001b[38;5;28;01mdef\u001b[39;00m\u001b[38;5;250m \u001b[39m\u001b[34mneg_loglik\u001b[39m(x: np.ndarray) -> \u001b[38;5;28mfloat\u001b[39m:\n\u001b[32m      8\u001b[39m     \u001b[38;5;66;03m# map back to named params\u001b[39;00m\n\u001b[32m      9\u001b[39m     p = \u001b[38;5;28mdict\u001b[39m(\u001b[38;5;28mzip\u001b[39m(param_names, x))\n\u001b[32m---> \u001b[39m\u001b[32m10\u001b[39m     ll = \u001b[43mmodel\u001b[49m\u001b[43m.\u001b[49m\u001b[43mlikelihood\u001b[49m\u001b[43m(\u001b[49m\u001b[43mgiven_params\u001b[49m\u001b[43m=\u001b[49m\u001b[43mp\u001b[49m\u001b[43m,\u001b[49m\u001b[43m \u001b[49m\u001b[43mlog\u001b[49m\u001b[43m=\u001b[49m\u001b[38;5;28;43;01mTrue\u001b[39;49;00m\u001b[43m)\u001b[49m\n\u001b[32m     11\u001b[39m     \u001b[38;5;66;03m# penalty if invalid\u001b[39;00m\n\u001b[32m     12\u001b[39m     \u001b[38;5;28;01mreturn\u001b[39;00m -ll \u001b[38;5;28;01mif\u001b[39;00m np.isfinite(ll) \u001b[38;5;28;01melse\u001b[39;00m \u001b[32m1e8\u001b[39m\n",
      "\u001b[36mFile \u001b[39m\u001b[32m/mnt/data/loriskeller/Documents/Master Project/VS/lymph_stuff/lymph/lymph/models/midline.py:932\u001b[39m, in \u001b[36mMidline.likelihood\u001b[39m\u001b[34m(self, given_params, log, t_stage, mode)\u001b[39m\n\u001b[32m    910\u001b[39m \u001b[38;5;250m\u001b[39m\u001b[33;03m\"\"\"Compute the (log-)likelihood of the stored data given the model (and params).\u001b[39;00m\n\u001b[32m    911\u001b[39m \n\u001b[32m    912\u001b[39m \u001b[33;03mSee the documentation of :py:meth:`.types.Model.likelihood` for more\u001b[39;00m\n\u001b[32m   (...)\u001b[39m\u001b[32m    927\u001b[39m \u001b[33;03m        The corresponding unilateral function.\u001b[39;00m\n\u001b[32m    928\u001b[39m \u001b[33;03m\"\"\"\u001b[39;00m\n\u001b[32m    929\u001b[39m \u001b[38;5;28;01mtry\u001b[39;00m:\n\u001b[32m    930\u001b[39m     \u001b[38;5;66;03m# all functions and methods called here should raise a ValueError if the\u001b[39;00m\n\u001b[32m    931\u001b[39m     \u001b[38;5;66;03m# given parameters are invalid...\u001b[39;00m\n\u001b[32m--> \u001b[39m\u001b[32m932\u001b[39m     \u001b[43mutils\u001b[49m\u001b[43m.\u001b[49m\u001b[43msafe_set_params\u001b[49m\u001b[43m(\u001b[49m\u001b[38;5;28;43mself\u001b[39;49m\u001b[43m,\u001b[49m\u001b[43m \u001b[49m\u001b[43mgiven_params\u001b[49m\u001b[43m)\u001b[49m\n\u001b[32m    933\u001b[39m \u001b[38;5;28;01mexcept\u001b[39;00m \u001b[38;5;167;01mValueError\u001b[39;00m:\n\u001b[32m    934\u001b[39m     \u001b[38;5;28;01mreturn\u001b[39;00m -np.inf \u001b[38;5;28;01mif\u001b[39;00m log \u001b[38;5;28;01melse\u001b[39;00m \u001b[32m0.0\u001b[39m\n",
      "\u001b[36mFile \u001b[39m\u001b[32m/mnt/data/loriskeller/Documents/Master Project/VS/lymph_stuff/lymph/lymph/utils.py:419\u001b[39m, in \u001b[36msafe_set_params\u001b[39m\u001b[34m(model, params)\u001b[39m\n\u001b[32m    416\u001b[39m     \u001b[38;5;28;01mreturn\u001b[39;00m\n\u001b[32m    418\u001b[39m \u001b[38;5;28;01mif\u001b[39;00m \u001b[38;5;28misinstance\u001b[39m(params, \u001b[38;5;28mdict\u001b[39m):\n\u001b[32m--> \u001b[39m\u001b[32m419\u001b[39m     \u001b[43mmodel\u001b[49m\u001b[43m.\u001b[49m\u001b[43mset_named_params\u001b[49m\u001b[43m(\u001b[49m\u001b[43m*\u001b[49m\u001b[43m*\u001b[49m\u001b[43mparams\u001b[49m\u001b[43m)\u001b[49m\n\u001b[32m    420\u001b[39m \u001b[38;5;28;01melse\u001b[39;00m:\n\u001b[32m    421\u001b[39m     model.set_named_params(*params)\n",
      "\u001b[36mFile \u001b[39m\u001b[32m/mnt/data/loriskeller/Documents/Master Project/VS/lymph_stuff/lymph/lymph/types.py:371\u001b[39m, in \u001b[36mModel.set_named_params\u001b[39m\u001b[34m(self, *args, **kwargs)\u001b[39m\n\u001b[32m    369\u001b[39m new_params = \u001b[38;5;28mdict\u001b[39m(\u001b[38;5;28mzip\u001b[39m(\u001b[38;5;28mself\u001b[39m.named_params, args, strict=\u001b[38;5;28;01mFalse\u001b[39;00m))\n\u001b[32m    370\u001b[39m new_params.update(kwargs)\n\u001b[32m--> \u001b[39m\u001b[32m371\u001b[39m \u001b[38;5;28;43mself\u001b[39;49m\u001b[43m.\u001b[49m\u001b[43mset_params\u001b[49m\u001b[43m(\u001b[49m\u001b[43m*\u001b[49m\u001b[43m*\u001b[49m\u001b[43mnew_params\u001b[49m\u001b[43m)\u001b[49m\n",
      "\u001b[36mFile \u001b[39m\u001b[32m/mnt/data/loriskeller/Documents/Master Project/VS/lymph_stuff/lymph/lymph/models/midline.py:626\u001b[39m, in \u001b[36mMidline.set_params\u001b[39m\u001b[34m(self, *args, **kwargs)\u001b[39m\n\u001b[32m    624\u001b[39m \u001b[38;5;28;01mif\u001b[39;00m \u001b[38;5;28mself\u001b[39m.use_midext_evo:\n\u001b[32m    625\u001b[39m     \u001b[38;5;28mself\u001b[39m.midext_prob = kwargs.get(\u001b[33m\"\u001b[39m\u001b[33mmidext_prob\u001b[39m\u001b[33m\"\u001b[39m, last) \u001b[38;5;129;01mor\u001b[39;00m \u001b[38;5;28mself\u001b[39m.midext_prob\n\u001b[32m--> \u001b[39m\u001b[32m626\u001b[39m args = \u001b[38;5;28;43mself\u001b[39;49m\u001b[43m.\u001b[49m\u001b[43mset_spread_params\u001b[49m\u001b[43m(\u001b[49m\u001b[43m*\u001b[49m\u001b[43m(\u001b[49m\u001b[43mbefore\u001b[49m\u001b[43m \u001b[49m\u001b[43m+\u001b[49m\u001b[43m \u001b[49m\u001b[43mafter\u001b[49m\u001b[43m)\u001b[49m\u001b[43m,\u001b[49m\u001b[43m \u001b[49m\u001b[43m*\u001b[49m\u001b[43m*\u001b[49m\u001b[43mkwargs\u001b[49m\u001b[43m)\u001b[49m\n\u001b[32m    627\u001b[39m \u001b[38;5;28;01mreturn\u001b[39;00m \u001b[38;5;28mself\u001b[39m.set_distribution_params(*args, **kwargs)\n",
      "\u001b[36mFile \u001b[39m\u001b[32m/mnt/data/loriskeller/Documents/Master Project/VS/lymph_stuff/lymph/lymph/models/midline.py:607\u001b[39m, in \u001b[36mMidline.set_spread_params\u001b[39m\u001b[34m(self, *args, **kwargs)\u001b[39m\n\u001b[32m    605\u001b[39m \u001b[38;5;28;01mdef\u001b[39;00m\u001b[38;5;250m \u001b[39m\u001b[34mset_spread_params\u001b[39m(\u001b[38;5;28mself\u001b[39m, *args: \u001b[38;5;28mfloat\u001b[39m, **kwargs: \u001b[38;5;28mfloat\u001b[39m) -> Iterable[\u001b[38;5;28mfloat\u001b[39m]:\n\u001b[32m    606\u001b[39m \u001b[38;5;250m    \u001b[39m\u001b[33;03m\"\"\"Set the spread parameters of the midline model.\"\"\"\u001b[39;00m\n\u001b[32m--> \u001b[39m\u001b[32m607\u001b[39m     args = \u001b[38;5;28;43mself\u001b[39;49m\u001b[43m.\u001b[49m\u001b[43mset_tumor_spread_params\u001b[49m\u001b[43m(\u001b[49m\u001b[43m*\u001b[49m\u001b[43margs\u001b[49m\u001b[43m,\u001b[49m\u001b[43m \u001b[49m\u001b[43m*\u001b[49m\u001b[43m*\u001b[49m\u001b[43mkwargs\u001b[49m\u001b[43m)\u001b[49m\n\u001b[32m    608\u001b[39m     \u001b[38;5;28;01mreturn\u001b[39;00m \u001b[38;5;28mself\u001b[39m.set_lnl_spread_params(*args, **kwargs)\n",
      "\u001b[36mFile \u001b[39m\u001b[32m/mnt/data/loriskeller/Documents/Master Project/VS/lymph_stuff/lymph/lymph/models/midline.py:513\u001b[39m, in \u001b[36mMidline.set_tumor_spread_params\u001b[39m\u001b[34m(self, *args, **kwargs)\u001b[39m\n\u001b[32m    504\u001b[39m         \u001b[38;5;66;03m# Set the contra tumor spread parameters for each cohort \u001b[39;00m\n\u001b[32m    505\u001b[39m         \u001b[38;5;66;03m# using the defined ispi (ext1) and noext (noext) params\u001b[39;00m\n\u001b[32m    506\u001b[39m         \u001b[38;5;66;03m# and the cohort specific mixing parameter\u001b[39;00m\n\u001b[32m    507\u001b[39m         \u001b[38;5;28;01mfor\u001b[39;00m (key, ipsi_param), noext_contra_param \u001b[38;5;129;01min\u001b[39;00m \u001b[38;5;28mzip\u001b[39m(\n\u001b[32m    508\u001b[39m             \u001b[38;5;28mself\u001b[39m.ext1.ipsi.get_tumor_spread_params().items(),\n\u001b[32m    509\u001b[39m             \u001b[38;5;28mself\u001b[39m.noext.contra.get_tumor_spread_params().values(),\n\u001b[32m    510\u001b[39m             strict=\u001b[38;5;28;01mFalse\u001b[39;00m,\n\u001b[32m    511\u001b[39m         ):\n\u001b[32m    512\u001b[39m             ext_contra_kwargs[key] = (\n\u001b[32m--> \u001b[39m\u001b[32m513\u001b[39m                 \u001b[43mmixing_param\u001b[49m\u001b[43m \u001b[49m\u001b[43m*\u001b[49m\u001b[43m \u001b[49m\u001b[43mipsi_param\u001b[49m\n\u001b[32m    514\u001b[39m                 + (\u001b[32m1.0\u001b[39m - mixing_param) * noext_contra_param\n\u001b[32m    515\u001b[39m             )\n\u001b[32m    517\u001b[39m         \u001b[38;5;28mgetattr\u001b[39m(\u001b[38;5;28mself\u001b[39m, \u001b[33mf\u001b[39m\u001b[33m\"\u001b[39m\u001b[33mext\u001b[39m\u001b[38;5;132;01m{\u001b[39;00mcoh\u001b[38;5;132;01m}\u001b[39;00m\u001b[33m\"\u001b[39m).contra.set_tumor_spread_params(**ext_contra_kwargs)\n\u001b[32m    518\u001b[39m \u001b[38;5;28;01melse\u001b[39;00m:  \n",
      "\u001b[31mTypeError\u001b[39m: unsupported operand type(s) for *: 'NoneType' and 'float'"
     ]
    }
   ],
   "source": [
    "# 1) grab the names & initial values\n",
    "#init_dict = model.get_params(as_dict=True)\n",
    "param_names = list(init_dict.keys())\n",
    "#x0 = np.array(list(init_dict.values()))\n",
    "\n",
    "# 2) negative log‐likelihood objective\n",
    "def neg_loglik(x: np.ndarray) -> float:\n",
    "    # map back to named params\n",
    "    p = dict(zip(param_names, x))\n",
    "    ll = model.likelihood(given_params=p, log=True)\n",
    "    # penalty if invalid\n",
    "    return -ll if np.isfinite(ll) else 1e8\n",
    "bounds = [(0.0, 1.0)] * ndim\n",
    "\n",
    "# for i, name in enumerate(param_names):\n",
    "#     if name == \"late_p\":\n",
    "#         bounds[i] = (0.3, 1.0)\n",
    "# 3) run optimization\n",
    "method = \"Powell\"\n",
    "#method = \"Nelder-Mead\"  # or \"Powell\", \"L-BFGS-B\", etc.\n",
    "res = minimize(\n",
    "    fun=neg_loglik,\n",
    "    x0=x0,\n",
    "    bounds=bounds,\n",
    "    method=method,\n",
    "    options={\"maxiter\": 1000, \"disp\": True},\n",
    ")\n",
    "\n",
    "# 4) unpack & load optimized params\n",
    "opt_x = res.x\n",
    "opt_params = dict(zip(param_names, opt_x))\n",
    "model.set_params(**opt_params)\n",
    "\n",
    "print(\"Powell optimize success:\", res.success, res.message)\n",
    "print(\"Optimized parameters:\")\n",
    "params_rounded = {k: round(float(v), 4) for k, v in model.get_params(as_dict=True).items()}\n",
    "pprint.pprint(params_rounded)"
   ]
  }
 ],
 "metadata": {
  "kernelspec": {
   "display_name": ".venv",
   "language": "python",
   "name": "python3"
  },
  "language_info": {
   "codemirror_mode": {
    "name": "ipython",
    "version": 3
   },
   "file_extension": ".py",
   "mimetype": "text/x-python",
   "name": "python",
   "nbconvert_exporter": "python",
   "pygments_lexer": "ipython3",
   "version": "3.13.0"
  }
 },
 "nbformat": 4,
 "nbformat_minor": 5
}
