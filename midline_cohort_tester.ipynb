{
 "cells": [
  {
   "cell_type": "code",
   "execution_count": 25,
   "id": "bc3f303c",
   "metadata": {},
   "outputs": [],
   "source": [
    "import lymph\n",
    "import pandas as pd\n",
    "import scipy as sp\n",
    "import numpy as np\n",
    "import numpy as np\n",
    "from scipy.optimize import minimize\n",
    "import pprint"
   ]
  },
  {
   "cell_type": "code",
   "execution_count": 26,
   "id": "ca1a87ff",
   "metadata": {},
   "outputs": [],
   "source": [
    "graph_dict_II_III = {\n",
    "    ('tumor', 'T')  : ['II', 'III'], \n",
    "    ('lnl'  , 'II') : ['III'], \n",
    "    ('lnl'  , 'III'): []\n",
    "}\n",
    "\n",
    "graph_dict_II_III_IV = {\n",
    "    ('tumor', 'T')  : ['II', 'III', 'IV'], \n",
    "    ('lnl'  , 'II') : ['III'], \n",
    "    ('lnl'  , 'III'): ['IV'], \n",
    "    ('lnl'  , 'IV') : []\n",
    "}\n",
    "# named_params = ['ipsi_TtoII_spread_ext1', \n",
    "#                 'ipsi_TtoIII_spread_ext1',\n",
    "#                 'contra_TtoII_spread_ext1',\n",
    "#                 'contra_TtoII_spread_ext2',\n",
    "#                 'contra_TtoII_spread_ext3',\n",
    "#                 'contra_TtoIII_spread_ext1',\n",
    "#                 'contra_TtoIII_spread_ext2',\n",
    "#                 'contra_TtoIII_spread_ext3',\n",
    "#                 'IItoIII_spread',\n",
    "#                 'mixing1',\n",
    "#                 'mixing2',\n",
    "#                 'mixing3']\n",
    "\n",
    "\n",
    "csv_file_path = r\"/home/loriskeller/Documents/Master Project/usz_reduced_cohort.csv\"\n",
    "dataset_distance_cohorts_oropharynx = pd.read_csv(csv_file_path, header = [0,1,2])\n",
    "model = lymph.models.Midline(graph_dict = graph_dict_II_III,\n",
    "                             use_mixing = True,\n",
    "                             use_cohorts = True,\n",
    "                             use_midext_evo=False\n",
    "                             )"
   ]
  },
  {
   "cell_type": "code",
   "execution_count": 27,
   "id": "8cee7afd",
   "metadata": {},
   "outputs": [],
   "source": [
    "model.load_patient_data(dataset_distance_cohorts_oropharynx)\n",
    "model.set_modality(\"max_llh\", spec=1, sens=1)\n",
    "\n",
    "example_cols = [(\"tumor\", \"1\", \"t_stage\"),\n",
    "                (\"tumor\", \"1\", \"ext_coh\")]\n",
    "dataset_distance_cohorts_oropharynx[example_cols]   \n",
    "params = {\n",
    "    'ipsi_TtoII_spread': 0.7,\n",
    "    'ipsi_TtoIII_spread': 0.2,\n",
    "    'contra_TtoII_spread': 0.1,\n",
    "    'contra_TtoIII_spread': 0.1,\n",
    "    'mixing1': 0.1,\n",
    "    'mixing2': 0.3,\n",
    "    'mixing3': 0.4,\n",
    "    'IItoIII_spread': 0.3\n",
    "}"
   ]
  },
  {
   "cell_type": "code",
   "execution_count": 28,
   "id": "7f74849b",
   "metadata": {},
   "outputs": [
    {
     "name": "stdout",
     "output_type": "stream",
     "text": [
      "{'contra_TtoII_spread': 0.1, 'contra_TtoIII_spread': 0.1, 'ipsi_TtoII_spread': 0.7, 'ipsi_TtoIII_spread': 0.2, 'mixing1': 0.1, 'mixing2': 0.3, 'mixing3': 0.4, 'IItoIII_spread': 0.3}\n",
      "contra_TtoII_spread_ext1: 0.16\n",
      "contra_TtoII_spread_ext2: 0.27999999999999997\n",
      "contra_TtoII_spread_ext3: 0.33999999999999997\n",
      "contra_TtoIII_spread_ext1: 0.11000000000000001\n",
      "contra_TtoIII_spread_ext2: 0.13\n",
      "contra_TtoIII_spread_ext3: 0.14\n"
     ]
    }
   ],
   "source": [
    "model.set_params(**params)\n",
    "\n",
    "p = model.get_params()  \n",
    "print(p)\n",
    "\n",
    "ipsi_II = p[\"ipsi_TtoII_spread\"]\n",
    "ipsi_III = p[\"ipsi_TtoIII_spread\"]\n",
    "mix1 = p[\"mixing1\"]\n",
    "mix2 = p[\"mixing2\"]\n",
    "mix3 = p[\"mixing3\"]\n",
    "noext_II = p[\"contra_TtoII_spread\"]\n",
    "noext_III = p[\"contra_TtoIII_spread\"]\n",
    "\n",
    "# 3) compute the cohort‐1 contralateral spread\n",
    "contra_TtoII_spread_ext1 = ipsi_II * mix1 + (1 - mix1) * noext_II\n",
    "contra_TtoII_spread_ext2 = ipsi_II * mix2 + (1 - mix2) * noext_II\n",
    "contra_TtoII_spread_ext3 = ipsi_II * mix3 + (1 - mix3) * noext_II\n",
    "\n",
    "contra_TtoIII_spread_ext1 = ipsi_III * mix1 + (1 - mix1) * noext_III\n",
    "contra_TtoIII_spread_ext2 = ipsi_III * mix2 + (1 - mix2) * noext_III\n",
    "contra_TtoIII_spread_ext3 = ipsi_III * mix3 + (1 - mix3) * noext_III\n",
    "\n",
    "print(f\"contra_TtoII_spread_ext1: {contra_TtoII_spread_ext1}\")\n",
    "print(f\"contra_TtoII_spread_ext2: {contra_TtoII_spread_ext2}\")\n",
    "print(f\"contra_TtoII_spread_ext3: {contra_TtoII_spread_ext3}\")\n",
    "print(f\"contra_TtoIII_spread_ext1: {contra_TtoIII_spread_ext1}\")\n",
    "print(f\"contra_TtoIII_spread_ext2: {contra_TtoIII_spread_ext2}\")\n",
    "print(f\"contra_TtoIII_spread_ext3: {contra_TtoIII_spread_ext3}\")"
   ]
  },
  {
   "cell_type": "code",
   "execution_count": 29,
   "id": "02bb8562",
   "metadata": {},
   "outputs": [],
   "source": [
    "rng = np.random.default_rng(42)\n",
    "\n",
    "max_time = model.max_time\n",
    "time_steps = np.arange(max_time+1)\n",
    "p = 0.3\n",
    "\n",
    "early_prior = sp.stats.binom.pmf(time_steps, max_time, p)\n",
    "model.set_distribution(\"early\", early_prior)\n",
    "\n",
    "def late_binomial(support: np.ndarray, p: float = 0.5) -> np.ndarray:\n",
    "    \"\"\"Parametrized binomial distribution.\"\"\"\n",
    "    return sp.stats.binom.pmf(support, n=support[-1], p=p)\n",
    "\n",
    "model.set_distribution(\"late\", late_binomial)"
   ]
  },
  {
   "cell_type": "code",
   "execution_count": 30,
   "id": "96073b01",
   "metadata": {},
   "outputs": [
    {
     "data": {
      "text/plain": [
       "np.float64(-529.4423443022619)"
      ]
     },
     "execution_count": 30,
     "metadata": {},
     "output_type": "execute_result"
    }
   ],
   "source": [
    "model.likelihood()"
   ]
  },
  {
   "cell_type": "code",
   "execution_count": 31,
   "id": "4a2c244a",
   "metadata": {},
   "outputs": [],
   "source": [
    "import emcee\n",
    "from lymph.utils import safe_set_params\n",
    "\n",
    "nwalkers, ndim = 100, len(model.get_params())\n",
    "nsteps = 200\n",
    "initial = np.random.uniform(size=(nwalkers, ndim))"
   ]
  },
  {
   "cell_type": "code",
   "execution_count": 32,
   "id": "23ca9792",
   "metadata": {},
   "outputs": [],
   "source": [
    "sampler = emcee.EnsembleSampler(\n",
    "    nwalkers=nwalkers,\n",
    "    ndim=ndim,\n",
    "    log_prob_fn=model.likelihood,\n",
    "    parameter_names=list(model.get_params().keys()),\n",
    ")"
   ]
  },
  {
   "cell_type": "code",
   "execution_count": 33,
   "id": "fdaf3497",
   "metadata": {},
   "outputs": [],
   "source": [
    "# sampler.run_mcmc(initial, nsteps, progress=True)"
   ]
  },
  {
   "cell_type": "code",
   "execution_count": 34,
   "id": "7bfbec4b",
   "metadata": {},
   "outputs": [
    {
     "name": "stdout",
     "output_type": "stream",
     "text": [
      "contra_TtoII_spread = 0.774\n",
      "contra_TtoIII_spread = 0.439\n",
      "ipsi_TtoII_spread = 0.859\n",
      "ipsi_TtoIII_spread = 0.697\n",
      "mixing1 = 0.094\n",
      "mixing2 = 0.976\n",
      "mixing3 = 0.761\n",
      "IItoIII_spread = 0.786\n",
      "late_p = 0.128\n"
     ]
    }
   ],
   "source": [
    "# fix your seed for reproducibility\n",
    "seed = 42\n",
    "rng  = np.random.default_rng(seed)\n",
    "\n",
    "# grab the names & initial *length*\n",
    "init_dict   = model.get_params(as_dict=True)\n",
    "param_names = list(init_dict.keys())\n",
    "ndim        = len(param_names)\n",
    "# draw a random starting point in [0,1]^ndim\n",
    "\n",
    "x0 = rng.random(ndim)\n",
    "\n",
    "for i, name in enumerate(param_names):\n",
    "    print(f\"{name} = {x0[i]:.3f}\")\n",
    "      "
   ]
  },
  {
   "cell_type": "code",
   "execution_count": 35,
   "id": "ee12dcde",
   "metadata": {},
   "outputs": [
    {
     "name": "stdout",
     "output_type": "stream",
     "text": [
      "Optimization terminated successfully.\n",
      "         Current function value: 348.758614\n",
      "         Iterations: 5\n",
      "         Function evaluations: 541\n",
      "Powell optimize success: True Optimization terminated successfully.\n",
      "Optimized parameters:\n",
      "{'IItoIII_spread': 0.2759,\n",
      " 'contra_TtoIII_spread': 0.0001,\n",
      " 'contra_TtoII_spread': 0.0398,\n",
      " 'ipsi_TtoIII_spread': 0.077,\n",
      " 'ipsi_TtoII_spread': 0.5267,\n",
      " 'late_p': 0.2802,\n",
      " 'mixing1': 0.0728,\n",
      " 'mixing2': 0.1807,\n",
      " 'mixing3': 0.342}\n"
     ]
    }
   ],
   "source": [
    "# 1) grab the names & initial values\n",
    "#init_dict = model.get_params(as_dict=True)\n",
    "param_names = list(init_dict.keys())\n",
    "#x0 = np.array(list(init_dict.values()))\n",
    "\n",
    "# 2) negative log‐likelihood objective\n",
    "def neg_loglik(x: np.ndarray) -> float:\n",
    "    # map back to named params\n",
    "    p = dict(zip(param_names, x))\n",
    "    ll = model.likelihood(given_params=p, log=True)\n",
    "    # penalty if invalid\n",
    "    return -ll if np.isfinite(ll) else 1e8\n",
    "bounds = [(0.0, 1.0)] * ndim\n",
    "\n",
    "# for i, name in enumerate(param_names):\n",
    "#     if name == \"late_p\":\n",
    "#         bounds[i] = (0.3, 1.0)\n",
    "# 3) run optimization\n",
    "method = \"Powell\"\n",
    "#method = \"Nelder-Mead\"  # or \"Powell\", \"L-BFGS-B\", etc.\n",
    "res = minimize(\n",
    "    fun=neg_loglik,\n",
    "    x0=x0,\n",
    "    bounds=bounds,\n",
    "    method=method,\n",
    "    options={\"maxiter\": 1000, \"disp\": True},\n",
    ")\n",
    "\n",
    "# 4) unpack & load optimized params\n",
    "opt_x = res.x\n",
    "opt_params = dict(zip(param_names, opt_x))\n",
    "model.set_params(**opt_params)\n",
    "\n",
    "print(\"Powell optimize success:\", res.success, res.message)\n",
    "print(\"Optimized parameters:\")\n",
    "params_rounded = {k: round(float(v), 4) for k, v in model.get_params(as_dict=True).items()}\n",
    "pprint.pprint(params_rounded)"
   ]
  }
 ],
 "metadata": {
  "kernelspec": {
   "display_name": ".venv",
   "language": "python",
   "name": "python3"
  },
  "language_info": {
   "codemirror_mode": {
    "name": "ipython",
    "version": 3
   },
   "file_extension": ".py",
   "mimetype": "text/x-python",
   "name": "python",
   "nbconvert_exporter": "python",
   "pygments_lexer": "ipython3",
   "version": "3.13.0"
  }
 },
 "nbformat": 4,
 "nbformat_minor": 5
}
