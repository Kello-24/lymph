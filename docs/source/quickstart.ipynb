{
 "cells": [
  {
   "cell_type": "markdown",
   "metadata": {},
   "source": [
    "# Getting started\n",
    "\n",
    "A lot of people get diagnosed with squamous cell carcinoma in the head & neck region ([HNSCC](https://en.wikipedia.org/wiki/Head_and_neck_cancer)), which frequently metastasizes via the lymphatic system. We set out to develop a methodology to predict the risk of a new patient having metastases in so-called lymph node levels (LNLs), based on their personal diagnose (e.g. findings from a CT scan) and information of previously diagnosed and treated patients. And that's exactly what this code enables you to do as well.\n",
    "\n",
    "As mentioned, this package is meant to be a relatively simple-to-use frontend. The math is done under the hood and one does not need to worry about it a lot. But let's have a quick look at what we're doing here.\n",
    "\n",
    "We will assume that you have already read the section on how to install the module and followed its instructions.\n",
    "\n",
    "## Importing\n",
    "\n",
    "First, let's import the package."
   ]
  },
  {
   "cell_type": "code",
   "execution_count": 1,
   "metadata": {},
   "outputs": [],
   "source": [
    "import lymph"
   ]
  },
  {
   "cell_type": "markdown",
   "metadata": {},
   "source": [
    "## Graph\n",
    "\n",
    "The model is based on the assumption that one can represent the lymphatic system as a directed graph. The arcs in that graph represent the direction of the lymphatic flow and therefore also the direction of metastatic spread. Hence, the first thing to do is to define a graph that represents the drainage pathways of the lymphatic system aptly.\n",
    "\n",
    "Here, this is done via a dictionary:"
   ]
  },
  {
   "cell_type": "code",
   "execution_count": 2,
   "metadata": {},
   "outputs": [],
   "source": [
    "graph = {('tumor', 'primary'): ['a', 'b'], \n",
    "         ('lnl'  , 'a'):       ['b', 'c'], \n",
    "         ('lnl'  , 'b'):       ['c'], \n",
    "         ('lnl'  , 'c'):       []}"
   ]
  },
  {
   "cell_type": "markdown",
   "metadata": {},
   "source": [
    "Every key in this dictionary is a tuple of the form `({type}, {name})` and represents either a tumor - in which case the `{type}` must be `'tumor'` - or a lymph node level (`{type}` must be `'lnl'`). The value of each of those nodes is then a list of names for nodes it connects to. So, for example the primary tumor `('tumor', 'primary')` in the `graph` above has directed arcs to `a` and `b`, while the LNL `c` does not have any outgoing connections.\n",
    "\n",
    "We can simply create an instance of `System` using only this graph and let it report itself:"
   ]
  },
  {
   "cell_type": "code",
   "execution_count": 3,
   "metadata": {},
   "outputs": [
    {
     "name": "stdout",
     "output_type": "stream",
     "text": [
      "Tumor(s):\n",
      "\tprimary ---  0.0 % --> a\n",
      "\t        `--  0.0 % --> b\n",
      "\n",
      "LNL(s):\n",
      "\ta ---  0.0 % --> b\n",
      "\t  `--  0.0 % --> c\n",
      "\tb ---  0.0 % --> c\n"
     ]
    }
   ],
   "source": [
    "simple_lymph_system = lymph.System(graph=graph)\n",
    "print(simple_lymph_system)"
   ]
  },
  {
   "cell_type": "markdown",
   "metadata": {},
   "source": [
    "The percentages between two nodes represents the probability (rate) that metastatic spread occurs along it. In the case of the tumor spreading to LNL `a` we call this probability *base probability (rate)* $\\tilde{b}_a$. For the spread between lymph node levels, we call it *transition probability (rate)*, e.g. $\\tilde{t}_{ab}$. The difference to the base probability (rate) is that it only plays a role if the parent LNL is already ivolved with metastases, while the tumor always spreads, of course.\n",
    "\n",
    "We can change these probability (rates) with a function called `set_theta()`. The only argument to this function is a list or array of these values in the order in which they appear when we call `print_graph()`:"
   ]
  },
  {
   "cell_type": "code",
   "execution_count": 4,
   "metadata": {},
   "outputs": [
    {
     "name": "stdout",
     "output_type": "stream",
     "text": [
      "Tumor(s):\n",
      "\tprimary --- 10.0 % --> a\n",
      "\t        `-- 20.0 % --> b\n",
      "\n",
      "LNL(s):\n",
      "\ta --- 40.0 % --> b\n",
      "\t  `-- 25.0 % --> c\n",
      "\tb ---  5.0 % --> c\n"
     ]
    }
   ],
   "source": [
    "simple_lymph_system.set_theta([0.1, 0.2, 0.4, 0.25, 0.05])\n",
    "print(simple_lymph_system)"
   ]
  },
  {
   "cell_type": "markdown",
   "metadata": {},
   "source": [
    "Reversely, we can also read them out:"
   ]
  },
  {
   "cell_type": "code",
   "execution_count": 5,
   "metadata": {},
   "outputs": [
    {
     "name": "stdout",
     "output_type": "stream",
     "text": [
      "[0.1  0.2  0.4  0.25 0.05]\n"
     ]
    }
   ],
   "source": [
    "probabilities = simple_lymph_system.get_theta()\n",
    "print(probabilities)"
   ]
  },
  {
   "cell_type": "markdown",
   "metadata": {},
   "source": [
    "## Diagnostic Modalities\n",
    "\n",
    "To ultimately compute the likelihoods of observations, we need to fix the sensitivities and specificities of the obtained diagnoses. And since we might have multiple diagnostic modalities available, we need to tell the system which of them comes with which specificity and sensitivity. We do this by creating a dictionary of specificity/sensitivity pairs:"
   ]
  },
  {
   "cell_type": "code",
   "execution_count": 6,
   "metadata": {},
   "outputs": [],
   "source": [
    "spsn_dict = {\"MRI\": [0.63, 0.81], \n",
    "             \"PET\": [0.86, 0.79]}"
   ]
  },
  {
   "cell_type": "markdown",
   "metadata": {},
   "source": [
    "Now we can pass this to the system using the ``set_modalities`` function."
   ]
  },
  {
   "cell_type": "code",
   "execution_count": 7,
   "metadata": {},
   "outputs": [],
   "source": [
    "simple_lymph_system.set_modalities(spsn_dict=spsn_dict)"
   ]
  },
  {
   "cell_type": "markdown",
   "metadata": {},
   "source": [
    "However, mostly this is going to be done automatically when loading the data and providing the dictionary along with the dataset."
   ]
  },
  {
   "cell_type": "markdown",
   "metadata": {},
   "source": [
    "## Data / Observations\n",
    "\n",
    "To compute the likelihood of a set of probability (rates) given a patient cohort we need such a patient cohort, of course. We can provide it to the system in the form of a `pandas` `DataFrame`. Here is an example:"
   ]
  },
  {
   "cell_type": "code",
   "execution_count": 8,
   "metadata": {},
   "outputs": [
    {
     "data": {
      "text/html": [
       "<div>\n",
       "<style scoped>\n",
       "    .dataframe tbody tr th:only-of-type {\n",
       "        vertical-align: middle;\n",
       "    }\n",
       "\n",
       "    .dataframe tbody tr th {\n",
       "        vertical-align: top;\n",
       "    }\n",
       "\n",
       "    .dataframe thead tr th {\n",
       "        text-align: left;\n",
       "    }\n",
       "</style>\n",
       "<table border=\"1\" class=\"dataframe\">\n",
       "  <thead>\n",
       "    <tr>\n",
       "      <th></th>\n",
       "      <th>Info</th>\n",
       "      <th colspan=\"4\" halign=\"left\">pathology</th>\n",
       "    </tr>\n",
       "    <tr>\n",
       "      <th></th>\n",
       "      <th>T-stage</th>\n",
       "      <th>I</th>\n",
       "      <th>II</th>\n",
       "      <th>III</th>\n",
       "      <th>IV</th>\n",
       "    </tr>\n",
       "  </thead>\n",
       "  <tbody>\n",
       "    <tr>\n",
       "      <th>0</th>\n",
       "      <td>early</td>\n",
       "      <td>1</td>\n",
       "      <td>0</td>\n",
       "      <td>0</td>\n",
       "      <td>0</td>\n",
       "    </tr>\n",
       "    <tr>\n",
       "      <th>1</th>\n",
       "      <td>early</td>\n",
       "      <td>0</td>\n",
       "      <td>1</td>\n",
       "      <td>0</td>\n",
       "      <td>0</td>\n",
       "    </tr>\n",
       "    <tr>\n",
       "      <th>2</th>\n",
       "      <td>early</td>\n",
       "      <td>0</td>\n",
       "      <td>1</td>\n",
       "      <td>0</td>\n",
       "      <td>0</td>\n",
       "    </tr>\n",
       "    <tr>\n",
       "      <th>3</th>\n",
       "      <td>early</td>\n",
       "      <td>0</td>\n",
       "      <td>1</td>\n",
       "      <td>0</td>\n",
       "      <td>0</td>\n",
       "    </tr>\n",
       "    <tr>\n",
       "      <th>4</th>\n",
       "      <td>early</td>\n",
       "      <td>0</td>\n",
       "      <td>1</td>\n",
       "      <td>0</td>\n",
       "      <td>0</td>\n",
       "    </tr>\n",
       "    <tr>\n",
       "      <th>...</th>\n",
       "      <td>...</td>\n",
       "      <td>...</td>\n",
       "      <td>...</td>\n",
       "      <td>...</td>\n",
       "      <td>...</td>\n",
       "    </tr>\n",
       "    <tr>\n",
       "      <th>142</th>\n",
       "      <td>early</td>\n",
       "      <td>0</td>\n",
       "      <td>0</td>\n",
       "      <td>0</td>\n",
       "      <td>0</td>\n",
       "    </tr>\n",
       "    <tr>\n",
       "      <th>143</th>\n",
       "      <td>early</td>\n",
       "      <td>0</td>\n",
       "      <td>0</td>\n",
       "      <td>0</td>\n",
       "      <td>0</td>\n",
       "    </tr>\n",
       "    <tr>\n",
       "      <th>144</th>\n",
       "      <td>early</td>\n",
       "      <td>0</td>\n",
       "      <td>0</td>\n",
       "      <td>0</td>\n",
       "      <td>0</td>\n",
       "    </tr>\n",
       "    <tr>\n",
       "      <th>145</th>\n",
       "      <td>early</td>\n",
       "      <td>0</td>\n",
       "      <td>0</td>\n",
       "      <td>0</td>\n",
       "      <td>0</td>\n",
       "    </tr>\n",
       "    <tr>\n",
       "      <th>146</th>\n",
       "      <td>early</td>\n",
       "      <td>0</td>\n",
       "      <td>0</td>\n",
       "      <td>0</td>\n",
       "      <td>0</td>\n",
       "    </tr>\n",
       "  </tbody>\n",
       "</table>\n",
       "<p>147 rows × 5 columns</p>\n",
       "</div>"
      ],
      "text/plain": [
       "       Info pathology          \n",
       "    T-stage         I II III IV\n",
       "0     early         1  0   0  0\n",
       "1     early         0  1   0  0\n",
       "2     early         0  1   0  0\n",
       "3     early         0  1   0  0\n",
       "4     early         0  1   0  0\n",
       "..      ...       ... ..  .. ..\n",
       "142   early         0  0   0  0\n",
       "143   early         0  0   0  0\n",
       "144   early         0  0   0  0\n",
       "145   early         0  0   0  0\n",
       "146   early         0  0   0  0\n",
       "\n",
       "[147 rows x 5 columns]"
      ]
     },
     "execution_count": 8,
     "metadata": {},
     "output_type": "execute_result"
    }
   ],
   "source": [
    "import pandas as pd\n",
    "\n",
    "dataset = pd.read_csv(\"_data/example.csv\", header=[0,1])\n",
    "dataset"
   ]
  },
  {
   "cell_type": "markdown",
   "metadata": {},
   "source": [
    "Note that this data has two header-rows, defining not only the individual column's content, but also to which over-arching category they belong. The \"Info\" category plays a special role here along with its sub-category \"T-stage\". It will later tell the system which time prior to use according to a dictionary of these distributions.\n",
    "\n",
    "The \"pathology\" section denotes that this dataset contains observations from a pathologic diagnostic modality (neck dissections in this case). How this is termed is irrelevant, as we will be telling the system what to look for. Import is, however, that - if we had multiple diagnostic modalities - they all contain a column for each lymph node level in the system we have set up. Obvioulsy, this dataset here does not match the system set up earlier, so let's fix that."
   ]
  },
  {
   "cell_type": "code",
   "execution_count": 9,
   "metadata": {},
   "outputs": [
    {
     "name": "stdout",
     "output_type": "stream",
     "text": [
      "Tumor(s):\n",
      "\tprimary ---  0.0 % --> I\n",
      "\t        `--  0.0 % --> II\n",
      "\t        `--  0.0 % --> III\n",
      "\t        `--  0.0 % --> IV\n",
      "\n",
      "LNL(s):\n",
      "\tI -----  0.0 % --> II\n",
      "\tII ----  0.0 % --> III\n",
      "\tIII ---  0.0 % --> IV\n"
     ]
    }
   ],
   "source": [
    "graph = {('tumor', 'primary')  : ['I', 'II', 'III', 'IV'], \n",
    "         ('lnl'  , 'I')  :       ['II'], \n",
    "         ('lnl'  , 'II') :       ['III'], \n",
    "         ('lnl'  , 'III'):       ['IV'],\n",
    "         ('lnl'  , 'IV') :       []}\n",
    "\n",
    "example_system = lymph.System(graph=graph)\n",
    "print(example_system)"
   ]
  },
  {
   "cell_type": "markdown",
   "metadata": {},
   "source": [
    "To feed the dataset into the system, we use the appropriate function. It also takes as an argument all the different T-stages that we want to consider. What the system does here is creating a $\\mathbf{C}$ matrix for every T-stage we provide here. Keep in mind that the T-stages in this list must actually occur in the database.\n",
    "\n",
    "Similarly, we can provide our specificity/sensitivity pairs for each diagnsotic modality directly here. In this case too the keys of the dictionary must be columns in the dataset."
   ]
  },
  {
   "cell_type": "code",
   "execution_count": 10,
   "metadata": {},
   "outputs": [],
   "source": [
    "only_pathology = {\"pathology\": [1., 1.]}\n",
    "\n",
    "example_system.load_data(dataset, \n",
    "                         t_stage=[\"early\"], \n",
    "                         spsn_dict=only_pathology, \n",
    "                         mode=\"HMM\")"
   ]
  },
  {
   "cell_type": "markdown",
   "metadata": {},
   "source": [
    "Lastly, the `mode` parameter determines which model should be used. We have implemented both the Bayesian network (`mode = \"BN\"`) from [(Pouymayou et al., 2019)](https://iopscience.iop.org/article/10.1088/1361-6560/ab2a18) and the hidden Markov model from our work (`mode = \"HMM`). In case the Bayesian network is chosen, the parameter `t_stage` has no effect.\n",
    "\n",
    "## Time prior\n",
    "\n",
    "The last ingerdient to set up (at least when using the hidden Markov model) would now be the time prior. Since this dataset contains only early T-stage patients the exact shape does not matter too much, as long as it is \"reasonable\". If we also had late T-stage patients in the cohort, we would need to think about how the two time priors relate to each other.\n",
    "\n",
    "For now we are going to use binomial distributions for this. Their shape makes intuitive sense: Since the time prior $p_T(t)$ is a distribution over the probability of diagnosing a patient after $t$ time steps, given his T-stage $T$ we would expect that a very early detection of the cancer is similarly unlikely as a very late one.\n",
    "\n",
    "As mentioned, we need to put a distribution for each distinct T-stage in our cohort into a dictionary:"
   ]
  },
  {
   "cell_type": "code",
   "execution_count": 11,
   "metadata": {},
   "outputs": [
    {
     "data": {
      "image/png": "[encoded data removed]",
      "text/plain": [
       "<Figure size 432x288 with 1 Axes>"
      ]
     },
     "metadata": {
      "needs_background": "light"
     },
     "output_type": "display_data"
    }
   ],
   "source": [
    "import numpy as np\n",
    "import scipy as sp\n",
    "import scipy.stats\n",
    "import matplotlib.pyplot as plt\n",
    "\n",
    "t_max = 10\n",
    "time_steps = np.arange(t_max+1)\n",
    "p = 0.4\n",
    "\n",
    "early_prior = sp.stats.binom.pmf(time_steps, t_max, p)\n",
    "\n",
    "plt.plot(time_steps, early_prior, \"o-\");\n",
    "plt.xlabel(\"time step $t$\");\n",
    "plt.ylabel(\"probability $p$\");"
   ]
  },
  {
   "cell_type": "code",
   "execution_count": 12,
   "metadata": {},
   "outputs": [],
   "source": [
    "time_prior_dict = {}\n",
    "time_prior_dict[\"early\"] = early_prior"
   ]
  },
  {
   "cell_type": "markdown",
   "metadata": {},
   "source": [
    "## Likelihood\n",
    "\n",
    "With everything set up like this, we can compute the likelihood of seeing the above dataset given a set of base and transition probability (rates)."
   ]
  },
  {
   "cell_type": "code",
   "execution_count": 13,
   "metadata": {},
   "outputs": [
    {
     "name": "stdout",
     "output_type": "stream",
     "text": [
      "log-likelihood is -331.09\n"
     ]
    }
   ],
   "source": [
    "test_probabilities = [0.02, 0.24, 0.03, 0.2, 0.23, 0.18, 0.18]\n",
    "\n",
    "llh = example_system.likelihood(test_probabilities, \n",
    "                                t_stage=[\"early\"], \n",
    "                                time_prior_dict=time_prior_dict, \n",
    "                                mode=\"HMM\")\n",
    "\n",
    "print(f\"log-likelihood is {llh:.2f}\")"
   ]
  },
  {
   "cell_type": "code",
   "execution_count": 14,
   "metadata": {},
   "outputs": [
    {
     "name": "stdout",
     "output_type": "stream",
     "text": [
      "Tumor(s):\n",
      "\tprimary ---  2.0 % --> I\n",
      "\t        `-- 24.0 % --> II\n",
      "\t        `--  3.0 % --> III\n",
      "\t        `-- 20.0 % --> IV\n",
      "\n",
      "LNL(s):\n",
      "\tI ----- 23.0 % --> II\n",
      "\tII ---- 18.0 % --> III\n",
      "\tIII --- 18.0 % --> IV\n"
     ]
    }
   ],
   "source": [
    "print(example_system)"
   ]
  },
  {
   "cell_type": "markdown",
   "metadata": {},
   "source": [
    "From here it is up to the user what to do with this quantity. Most *likely* though, one would want to perform MCMC sampling with this."
   ]
  }
 ],
 "metadata": {
  "kernelspec": {
   "display_name": "Python 3",
   "language": "python",
   "name": "python3"
  },
  "language_info": {
   "codemirror_mode": {
    "name": "ipython",
    "version": 3
   },
   "file_extension": ".py",
   "mimetype": "text/x-python",
   "name": "python",
   "nbconvert_exporter": "python",
   "pygments_lexer": "ipython3",
   "version": "3.9.1"
  },
  "toc": {
   "base_numbering": 1,
   "nav_menu": {},
   "number_sections": false,
   "sideBar": true,
   "skip_h1_title": false,
   "title_cell": "Table of Contents",
   "title_sidebar": "Contents",
   "toc_cell": false,
   "toc_position": {},
   "toc_section_display": true,
   "toc_window_display": true
  }
 },
 "nbformat": 4,
 "nbformat_minor": 2
}